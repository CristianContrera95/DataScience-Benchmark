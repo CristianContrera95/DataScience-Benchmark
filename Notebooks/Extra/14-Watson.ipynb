{
 "cells": [
  {
   "cell_type": "code",
   "execution_count": 8,
   "metadata": {},
   "outputs": [
    {
     "name": "stdout",
     "output_type": "stream",
     "text": [
      "Collecting ibm-watson>=4.5.0\n",
      "  Downloading ibm-watson-4.5.0.tar.gz (370 kB)\n",
      "\u001b[K     |████████████████████████████████| 370 kB 155 kB/s eta 0:00:01\n",
      "\u001b[?25hCollecting ibm_cloud_sdk_core==1.5.1\n",
      "  Downloading ibm-cloud-sdk-core-1.5.1.tar.gz (25 kB)\n",
      "Requirement already satisfied, skipping upgrade: python_dateutil>=2.5.3 in /home/anybody/Projects/Acamica/venv/lib/python3.8/site-packages (from ibm-watson>=4.5.0) (2.8.1)\n",
      "Requirement already satisfied, skipping upgrade: requests<3.0,>=2.0 in /home/anybody/Projects/Acamica/venv/lib/python3.8/site-packages (from ibm-watson>=4.5.0) (2.22.0)\n",
      "Requirement already satisfied, skipping upgrade: websocket-client==0.48.0 in /home/anybody/Projects/Acamica/venv/lib/python3.8/site-packages (from ibm-watson>=4.5.0) (0.48.0)\n",
      "Collecting PyJWT>=1.7.1\n",
      "  Using cached PyJWT-1.7.1-py2.py3-none-any.whl (18 kB)\n",
      "Requirement already satisfied, skipping upgrade: six>=1.5 in /home/anybody/Projects/Acamica/venv/lib/python3.8/site-packages (from python_dateutil>=2.5.3->ibm-watson>=4.5.0) (1.14.0)\n",
      "Building wheels for collected packages: ibm-watson, ibm-cloud-sdk-core\n",
      "  Building wheel for ibm-watson (setup.py) ... \u001b[?25ldone\n",
      "\u001b[?25h  Created wheel for ibm-watson: filename=ibm_watson-4.5.0-py3-none-any.whl size=364297 sha256=03aa6fb567ce8a19f557442e90c30c50ccbfe6f2616f33a3c08177d05b466c56\n",
      "  Stored in directory: /home/anybody/.cache/pip/wheels/d8/8e/f1/ec9283f104e6e489f4595ee77bde63934ccec674aca52874cb\n",
      "  Building wheel for ibm-cloud-sdk-core (setup.py) ... \u001b[?25ldone\n",
      "\u001b[?25h  Created wheel for ibm-cloud-sdk-core: filename=ibm_cloud_sdk_core-1.5.1-py3-none-any.whl size=44488 sha256=e39496d1beb5e08e0aaaa72fa973bd703506aa1e95c45ab8fbe291692b531d06\n",
      "  Stored in directory: /home/anybody/.cache/pip/wheels/db/7d/51/b1eed2551e65b99eedaf0756e7905d50035421d269dd14e57a\n",
      "Successfully built ibm-watson ibm-cloud-sdk-core\n",
      "Installing collected packages: PyJWT, ibm-cloud-sdk-core, ibm-watson\n",
      "Successfully installed PyJWT-1.7.1 ibm-cloud-sdk-core-1.5.1 ibm-watson-4.5.0\n"
     ]
    }
   ],
   "source": [
    "!pip install --upgrade \"ibm-watson>=4.5.0\""
   ]
  },
  {
   "cell_type": "code",
   "execution_count": 46,
   "metadata": {},
   "outputs": [
    {
     "data": {
      "text/plain": [
       "'/home/anybody/Projects/Acamica/Notebook/Plataforma'"
      ]
     },
     "execution_count": 46,
     "metadata": {},
     "output_type": "execute_result"
    }
   ],
   "source": [
    "pwd"
   ]
  },
  {
   "cell_type": "code",
   "execution_count": 14,
   "metadata": {},
   "outputs": [],
   "source": [
    "import warnings\n",
    "warnings.filterwarnings(\"ignore\")\n",
    "\n",
    "import json\n",
    "import numpy as np\n",
    "import pandas as pd\n",
    "from ibm_watson import NaturalLanguageUnderstandingV1\n",
    "from ibm_cloud_sdk_core.authenticators import IAMAuthenticator\n",
    "from watson_developer_cloud.natural_language_understanding_v1 import Features, EmotionOptions, SentimentOptions\n",
    "\n",
    "# Necesitan tener acceso a la API: \n",
    "# https://console.bluemix.net/apidocs/natural-language-understanding\n",
    "# Seguir estos pasos para crear cuenta y obtener las credenciales \n",
    "# https://console.bluemix.net/docs/services/natural-language-understanding/getting-started.html#getting-started-tutorial\n",
    "\n"
   ]
  },
  {
   "cell_type": "code",
   "execution_count": 15,
   "metadata": {},
   "outputs": [],
   "source": [
    "# Esto es lo que aparece en el video. Pero la versión más actualizada\n",
    "# es la que figura en la celda de abajo\n",
    "#natural_language_understanding = NaturalLanguageUnderstandingV1(\n",
    "#  username='79f8dc7b-a837-4f52-adc0-d2ab0fe602b7',\n",
    "#  password='sptSuwEoWTpP',\n",
    "#  version='2018-03-16')\n"
   ]
  },
  {
   "cell_type": "code",
   "execution_count": 52,
   "metadata": {},
   "outputs": [
    {
     "name": "stdout",
     "output_type": "stream",
     "text": [
      "Collecting scikit-learn==0.22.2.post1\n",
      "  Downloading scikit_learn-0.22.2.post1-cp38-cp38-manylinux1_x86_64.whl (7.0 MB)\n",
      "\u001b[K     |████████████████████████████████| 7.0 MB 2.7 MB/s eta 0:00:01\n",
      "\u001b[?25hRequirement already satisfied: joblib>=0.11 in /home/anybody/Projects/Acamica/venv/lib/python3.8/site-packages (from scikit-learn==0.22.2.post1) (0.15.1)\n",
      "Requirement already satisfied: numpy>=1.11.0 in /home/anybody/Projects/Acamica/venv/lib/python3.8/site-packages (from scikit-learn==0.22.2.post1) (1.18.4)\n",
      "Requirement already satisfied: scipy>=0.17.0 in /home/anybody/Projects/Acamica/venv/lib/python3.8/site-packages (from scikit-learn==0.22.2.post1) (1.4.1)\n",
      "Installing collected packages: scikit-learn\n",
      "Successfully installed scikit-learn-0.22.2.post1\n"
     ]
    }
   ],
   "source": [
    "!pip install scikit-learn==0.22.2.post1"
   ]
  },
  {
   "cell_type": "code",
   "execution_count": 25,
   "metadata": {},
   "outputs": [],
   "source": [
    "credentials = {\n",
    "  \"apikey\": \"zdAkWC8AGrd6cvEyVoeUALqZ-W9SMFPTaDVk_6hv5LvF\",\n",
    "  \"iam_apikey_description\": \"Auto-generated for key f2fd80c5-23c7-441c-a619-0e1cadded8f5\",\n",
    "  \"iam_apikey_name\": \"Auto-generated service credentials\",\n",
    "  \"iam_role_crn\": \"crn:v1:bluemix:public:iam::::serviceRole:Manager\",\n",
    "  \"iam_serviceid_crn\": \"crn:v1:bluemix:public:iam-identity::a/649247e29a16418d83e4fcd47f36958e::serviceid:ServiceId-622b62fc-585c-45ad-a3c3-6e67d842a74c\",\n",
    "  \"url\": \"https://api.us-south.natural-language-understanding.watson.cloud.ibm.com/instances/1d0a7f7c-4247-420a-b0ab-f17f29886a54\"\n",
    "}"
   ]
  },
  {
   "cell_type": "code",
   "execution_count": 26,
   "metadata": {},
   "outputs": [],
   "source": [
    "authenticator = IAMAuthenticator(credentials['apikey'])\n",
    "natural_language_understanding = NaturalLanguageUnderstandingV1(version='2019-07-12', authenticator=authenticator)\n",
    "natural_language_understanding.set_service_url(credentials['url'])"
   ]
  },
  {
   "cell_type": "code",
   "execution_count": 30,
   "metadata": {},
   "outputs": [],
   "source": [
    "a = b, c = (1,2)"
   ]
  },
  {
   "cell_type": "code",
   "execution_count": 31,
   "metadata": {},
   "outputs": [
    {
     "data": {
      "text/plain": [
       "((1, 2), 1, 2)"
      ]
     },
     "execution_count": 31,
     "metadata": {},
     "output_type": "execute_result"
    }
   ],
   "source": [
    "a,b, c"
   ]
  },
  {
   "cell_type": "code",
   "execution_count": 39,
   "metadata": {},
   "outputs": [],
   "source": [
    "def analisis_watson(text):\n",
    "    text = text.decode(\"utf-8\")\n",
    "    print(text)\n",
    "    response = natural_language_understanding.analyze(\n",
    "        text = text, \n",
    "        features = Features(emotion=EmotionOptions(), sentiment=SentimentOptions()))\n",
    "    return response.get_result()"
   ]
  },
  {
   "cell_type": "code",
   "execution_count": 40,
   "metadata": {},
   "outputs": [],
   "source": [
    "import sklearn\n",
    "from sklearn.datasets import load_files\n",
    "moviedir = '../Entregas/Entrega5/entrega+5/dataset/movie_reviews' \n",
    "movie_reviews = load_files(moviedir, shuffle=True)"
   ]
  },
  {
   "cell_type": "code",
   "execution_count": 41,
   "metadata": {},
   "outputs": [
    {
     "name": "stdout",
     "output_type": "stream",
     "text": [
      "kolya is one of the richest films i've seen in some time . \n",
      "zdenek sverak plays a confirmed old bachelor ( who's likely to remain so ) , who finds his life as a czech cellist increasingly impacted by the five-year old boy that he's taking care of . \n",
      "though it ends rather abruptly-- and i'm whining , 'cause i wanted to spend more time with these characters-- the acting , writing , and production values are as high as , if not higher than , comparable american dramas . \n",
      "this father-and-son delight-- sverak also wrote the script , while his son , jan , directed-- won a golden globe for best foreign language film and , a couple days after i saw it , walked away an oscar . \n",
      "in czech and russian , with english subtitles . \n",
      "\n",
      "{'usage': {'text_units': 1, 'text_characters': 727, 'features': 2}, 'sentiment': {'document': {'score': 0.632957, 'label': 'positive'}}, 'language': 'en', 'emotion': {'document': {'emotion': {'sadness': 0.174112, 'joy': 0.621866, 'fear': 0.453793, 'disgust': 0.064273, 'anger': 0.076822}}}}\n",
      "1\n"
     ]
    }
   ],
   "source": [
    "result = analisis_watson(movie_reviews.data[4])\n",
    "print(result)\n",
    "print(movie_reviews.target[4])\n"
   ]
  },
  {
   "cell_type": "code",
   "execution_count": 43,
   "metadata": {},
   "outputs": [
    {
     "name": "stdout",
     "output_type": "stream",
     "text": [
      "I'm feeling terrible this morning. It's raining.\n",
      "{'usage': {'text_units': 1, 'text_characters': 48, 'features': 2}, 'sentiment': {'document': {'score': -0.981839, 'label': 'negative'}}, 'language': 'en', 'emotion': {'document': {'emotion': {'sadness': 0.530404, 'joy': 0.013504, 'fear': 0.387294, 'disgust': 0.115647, 'anger': 0.302067}}}}\n"
     ]
    }
   ],
   "source": [
    "# Ejemplo con un texto triste \n",
    "print(analisis_watson(b\"I'm feeling terrible this morning. It's raining.\"))"
   ]
  },
  {
   "cell_type": "code",
   "execution_count": 44,
   "metadata": {},
   "outputs": [
    {
     "name": "stdout",
     "output_type": "stream",
     "text": [
      "Life is a miracle. Rainbows everywhere!\n",
      "{'usage': {'text_units': 1, 'text_characters': 39, 'features': 2}, 'sentiment': {'document': {'score': 0.923429, 'label': 'positive'}}, 'language': 'en', 'emotion': {'document': {'emotion': {'sadness': 0.052147, 'joy': 0.85235, 'fear': 0.023147, 'disgust': 0.029171, 'anger': 0.005688}}}}\n"
     ]
    }
   ],
   "source": [
    "# Ejemplo con un texto feliz \n",
    "print(analisis_watson(b\"Life is a miracle. Rainbows everywhere!\"))"
   ]
  },
  {
   "cell_type": "code",
   "execution_count": 45,
   "metadata": {},
   "outputs": [
    {
     "name": "stdout",
     "output_type": "stream",
     "text": [
      "And suddenly... the mist\n",
      "{'usage': {'text_units': 1, 'text_characters': 24, 'features': 2}, 'sentiment': {'document': {'score': 0, 'label': 'neutral'}}, 'language': 'en', 'emotion': {'document': {'emotion': {'sadness': 0.137537, 'joy': 0.016811, 'fear': 0.863259, 'disgust': 0.093765, 'anger': 0.094129}}}}\n"
     ]
    }
   ],
   "source": [
    "# Ejemplo con un texto de miedo \n",
    "print(analisis_watson(b\"And suddenly... the mist\"))"
   ]
  },
  {
   "cell_type": "code",
   "execution_count": null,
   "metadata": {},
   "outputs": [],
   "source": []
  }
 ],
 "metadata": {
  "kernelspec": {
   "display_name": "Python 3",
   "language": "python",
   "name": "python3"
  },
  "language_info": {
   "codemirror_mode": {
    "name": "ipython",
    "version": 3
   },
   "file_extension": ".py",
   "mimetype": "text/x-python",
   "name": "python",
   "nbconvert_exporter": "python",
   "pygments_lexer": "ipython3",
   "version": "3.8.2"
  }
 },
 "nbformat": 4,
 "nbformat_minor": 4
}
